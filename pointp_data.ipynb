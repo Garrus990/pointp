{
 "cells": [
  {
   "cell_type": "code",
   "execution_count": 1,
   "metadata": {},
   "outputs": [],
   "source": [
    "import itertools\n",
    "import pandas as pd\n",
    "import numpy as np\n",
    "import seaborn as sns\n",
    "import matplotlib.pyplot as plt\n",
    "import warnings\n",
    "\n",
    "from pandas.api.types import CategoricalDtype\n",
    "from scipy import stats"
   ]
  },
  {
   "cell_type": "markdown",
   "metadata": {},
   "source": [
    "## Data loading"
   ]
  },
  {
   "cell_type": "code",
   "execution_count": 2,
   "metadata": {},
   "outputs": [
    {
     "name": "stderr",
     "output_type": "stream",
     "text": [
      "/home/szymon_wojciechowski/anaconda3/envs/ml-env/lib/python3.7/site-packages/IPython/core/interactiveshell.py:3063: DtypeWarning: Columns (8,10,13,32,34,39,40,41,75,77,78) have mixed types.Specify dtype option on import or set low_memory=False.\n",
      "  interactivity=interactivity, compiler=compiler, result=result)\n"
     ]
    }
   ],
   "source": [
    "date_parser = lambda x: pd.to_datetime(x, format = '%Y-%m-%d %H:%M:%S', exact=False, errors='coerce')\n",
    "data = pd.read_csv('20200224_data_exploration_set.csv.gz', true_values=['t'], false_values=['f'],\n",
    "                   dtype={'id': np.str, 'number': np.str, 'point_of_service_id': np.str, 'courier_id': np.str, 'courier_company_id': np.str, \n",
    "                          'recipient_customer_data_id': np.str, 'returning_point_of_service_id': np.str, 'sender_customer_data': np.str, \n",
    "                          'pos_dispatch_note_id': np.str, 'delivery_data_id': np.str, 'posting_data_id': np.str, 'child_document': np.str,\n",
    "                          'last_dispatched_from_point_of_service_id': np.str, 'last_picked_up_from_point_of_service_id': np.str, \n",
    "                          'parcel_id': np.str, 'id.1': np.str, 'courier_company_id.1': np.str, 'courier_id.1': np.str, \n",
    "                          'recipient_customer_data_id.1': np.str, 'sender_customer_data_id.1': np.str, 'delivery_data_id.1': np.str,\n",
    "                          }, \n",
    "                   parse_dates=['date_created', 'admission_date', 'max_pickup_date', 'ready_for_pickup_date', 'price_calculation_date', \n",
    "                                'delivery_date', 'pickup_date', 'registered_in_transit_date', 'dispatch_note_created_date', 'announcement_date', \n",
    "                                'ready_to_return_date', 'courier_updated_on', 'max_pickup_date.1'], \n",
    "                   date_parser=date_parser\n",
    "               )\n",
    "\n",
    "# not even a single value is filled\n",
    "data = data.drop(columns=['insurance_option', 'size', 'returning_point_of_service_id', 'sender_customer_data_id', 'delivery_data_id', \n",
    "                          'courier_conditional_admission', 'posting_data_id', 'pickup_customer_data_id', 'returning_point_of_service_id.1', \n",
    "                          'posting_data_id.1',  'estimated_point_delivery_date', 'courier_point_delivery_date', 'price_calculation_date.1', \n",
    "                          'insurance_amount'])\n",
    "\n",
    "data.columns = data.columns.str.replace('.1', '_row')\n",
    "\n",
    "# make size categorical and ordered\n",
    "parcel_size_cat = CategoricalDtype(categories=[\"A\", \"B\", \"C\"], ordered=True)\n",
    "data['size_row'] = data['size_row'].astype(parcel_size_cat)"
   ]
  },
  {
   "cell_type": "code",
   "execution_count": 3,
   "metadata": {},
   "outputs": [
    {
     "data": {
      "text/plain": [
       "(1810406, 65)"
      ]
     },
     "execution_count": 3,
     "metadata": {},
     "output_type": "execute_result"
    }
   ],
   "source": [
    "data.shape"
   ]
  },
  {
   "cell_type": "code",
   "execution_count": 4,
   "metadata": {},
   "outputs": [
    {
     "name": "stdout",
     "output_type": "stream",
     "text": [
      "<class 'pandas.core.frame.DataFrame'>\n",
      "RangeIndex: 1810406 entries, 0 to 1810405\n",
      "Data columns (total 65 columns):\n",
      " #   Column                                    Dtype              \n",
      "---  ------                                    -----              \n",
      " 0   class                                     object             \n",
      " 1   id                                        object             \n",
      " 2   date_created                              datetime64[ns, UTC]\n",
      " 3   number                                    object             \n",
      " 4   state                                     object             \n",
      " 5   admission_date                            datetime64[ns, UTC]\n",
      " 6   max_pickup_date                           datetime64[ns]     \n",
      " 7   ready_for_pickup_date                     datetime64[ns, UTC]\n",
      " 8   price_list                                object             \n",
      " 9   price_calculation_date                    datetime64[ns, UTC]\n",
      " 10  cash_on_delivery                          object             \n",
      " 11  cash_on_delivery_amount                   float64            \n",
      " 12  dispatch_type                             object             \n",
      " 13  payment_place                             object             \n",
      " 14  child_document                            object             \n",
      " 15  point_of_service_id                       object             \n",
      " 16  courier_id                                object             \n",
      " 17  courier_company_id                        object             \n",
      " 18  recipient_customer_data_id                object             \n",
      " 19  pos_dispatch_note_id                      object             \n",
      " 20  delivery_date                             datetime64[ns, UTC]\n",
      " 21  cash_on_delivery_paid                     object             \n",
      " 22  last_dispatched_from_point_of_service_id  object             \n",
      " 23  ready_for_dispatch_date                   object             \n",
      " 24  target_state                              object             \n",
      " 25  pickup_date                               datetime64[ns, UTC]\n",
      " 26  origin                                    object             \n",
      " 27  registered_in_transit_date                datetime64[ns, UTC]\n",
      " 28  dispatch_note_created_date                datetime64[ns, UTC]\n",
      " 29  last_picked_up_from_point_of_service_id   object             \n",
      " 30  announcement_date                         datetime64[ns, UTC]\n",
      " 31  force_online_payment                      object             \n",
      " 32  attention_fragile                         object             \n",
      " 33  non_standard_size                         object             \n",
      " 34  confirm_trigger                           object             \n",
      " 35  ready_to_return_date                      datetime64[ns, UTC]\n",
      " 36  dtype                                     object             \n",
      " 37  id_row                                    object             \n",
      " 38  insurance_option_row                      object             \n",
      " 39  courier_conditional_admission_row         object             \n",
      " 40  expected_admission                        object             \n",
      " 41  cash_on_delivery_row                      object             \n",
      " 42  cash_on_delivery_amount_row               float64            \n",
      " 43  dispatch_type_row                         object             \n",
      " 44  parcel_value                              float64            \n",
      " 45  price_list_row                            object             \n",
      " 46  target_state_row                          object             \n",
      " 47  courier_updated_on                        datetime64[ns, UTC]\n",
      " 48  parcel_id                                 object             \n",
      " 49  courier_company_id_row                    object             \n",
      " 50  courier_id_row                            object             \n",
      " 51  recipient_customer_data_id_row            object             \n",
      " 52  sender_customer_data_id_row               object             \n",
      " 53  delivery_data_id_row                      object             \n",
      " 54  payment_place_row                         object             \n",
      " 55  max_pickup_date_row                       datetime64[ns, UTC]\n",
      " 56  charge_for_pickup                         object             \n",
      " 57  update_source                             object             \n",
      " 58  update_state                              object             \n",
      " 59  size_row                                  category           \n",
      " 60  pickup_code_input_method                  object             \n",
      " 61  origin_row                                object             \n",
      " 62  force_online_payment_row                  object             \n",
      " 63  attention_fragile_row                     object             \n",
      " 64  non_standard_size_row                     object             \n",
      "dtypes: category(1), datetime64[ns, UTC](12), datetime64[ns](1), float64(3), object(48)\n",
      "memory usage: 885.7+ MB\n"
     ]
    }
   ],
   "source": [
    "data.info()"
   ]
  },
  {
   "cell_type": "code",
   "execution_count": 5,
   "metadata": {},
   "outputs": [
    {
     "data": {
      "text/html": [
       "<div>\n",
       "<style scoped>\n",
       "    .dataframe tbody tr th:only-of-type {\n",
       "        vertical-align: middle;\n",
       "    }\n",
       "\n",
       "    .dataframe tbody tr th {\n",
       "        vertical-align: top;\n",
       "    }\n",
       "\n",
       "    .dataframe thead th {\n",
       "        text-align: right;\n",
       "    }\n",
       "</style>\n",
       "<table border=\"1\" class=\"dataframe\">\n",
       "  <thead>\n",
       "    <tr style=\"text-align: right;\">\n",
       "      <th></th>\n",
       "      <th>class</th>\n",
       "      <th>id</th>\n",
       "      <th>date_created</th>\n",
       "      <th>number</th>\n",
       "      <th>state</th>\n",
       "      <th>admission_date</th>\n",
       "      <th>max_pickup_date</th>\n",
       "      <th>ready_for_pickup_date</th>\n",
       "      <th>price_list</th>\n",
       "      <th>price_calculation_date</th>\n",
       "      <th>...</th>\n",
       "      <th>max_pickup_date_row</th>\n",
       "      <th>charge_for_pickup</th>\n",
       "      <th>update_source</th>\n",
       "      <th>update_state</th>\n",
       "      <th>size_row</th>\n",
       "      <th>pickup_code_input_method</th>\n",
       "      <th>origin_row</th>\n",
       "      <th>force_online_payment_row</th>\n",
       "      <th>attention_fragile_row</th>\n",
       "      <th>non_standard_size_row</th>\n",
       "    </tr>\n",
       "  </thead>\n",
       "  <tbody>\n",
       "    <tr>\n",
       "      <th>0</th>\n",
       "      <td>IncomingParcelInitialization</td>\n",
       "      <td>59818192</td>\n",
       "      <td>2019-09-02 02:05:05.471000+00:00</td>\n",
       "      <td>0000000059575318</td>\n",
       "      <td>CONFIRMED</td>\n",
       "      <td>NaT</td>\n",
       "      <td>NaT</td>\n",
       "      <td>NaT</td>\n",
       "      <td>NaN</td>\n",
       "      <td>NaT</td>\n",
       "      <td>...</td>\n",
       "      <td>NaT</td>\n",
       "      <td>NOTIFICATOR</td>\n",
       "      <td>NaN</td>\n",
       "      <td>NaN</td>\n",
       "      <td>B</td>\n",
       "      <td>NaN</td>\n",
       "      <td>NaN</td>\n",
       "      <td>False</td>\n",
       "      <td>False</td>\n",
       "      <td>False</td>\n",
       "    </tr>\n",
       "    <tr>\n",
       "      <th>1</th>\n",
       "      <td>ParcelAnnouncement</td>\n",
       "      <td>59818193</td>\n",
       "      <td>2019-09-02 02:05:05.785000+00:00</td>\n",
       "      <td>0000000059575319</td>\n",
       "      <td>CONFIRMED</td>\n",
       "      <td>NaT</td>\n",
       "      <td>NaT</td>\n",
       "      <td>NaT</td>\n",
       "      <td>NaN</td>\n",
       "      <td>NaT</td>\n",
       "      <td>...</td>\n",
       "      <td>NaT</td>\n",
       "      <td>NaN</td>\n",
       "      <td>NaN</td>\n",
       "      <td>NaN</td>\n",
       "      <td>NaN</td>\n",
       "      <td>NaN</td>\n",
       "      <td>NaN</td>\n",
       "      <td>False</td>\n",
       "      <td>False</td>\n",
       "      <td>False</td>\n",
       "    </tr>\n",
       "    <tr>\n",
       "      <th>2</th>\n",
       "      <td>IncomingParcelInitialization</td>\n",
       "      <td>59818194</td>\n",
       "      <td>2019-09-02 02:55:03.316000+00:00</td>\n",
       "      <td>0000000059575320</td>\n",
       "      <td>CONFIRMED</td>\n",
       "      <td>NaT</td>\n",
       "      <td>NaT</td>\n",
       "      <td>NaT</td>\n",
       "      <td>NaN</td>\n",
       "      <td>NaT</td>\n",
       "      <td>...</td>\n",
       "      <td>NaT</td>\n",
       "      <td>NOTIFICATOR</td>\n",
       "      <td>NaN</td>\n",
       "      <td>NaN</td>\n",
       "      <td>B</td>\n",
       "      <td>NaN</td>\n",
       "      <td>NaN</td>\n",
       "      <td>False</td>\n",
       "      <td>False</td>\n",
       "      <td>False</td>\n",
       "    </tr>\n",
       "    <tr>\n",
       "      <th>3</th>\n",
       "      <td>ParcelAnnouncement</td>\n",
       "      <td>59818195</td>\n",
       "      <td>2019-09-02 02:55:03.331000+00:00</td>\n",
       "      <td>0000000059575321</td>\n",
       "      <td>CONFIRMED</td>\n",
       "      <td>NaT</td>\n",
       "      <td>NaT</td>\n",
       "      <td>NaT</td>\n",
       "      <td>NaN</td>\n",
       "      <td>NaT</td>\n",
       "      <td>...</td>\n",
       "      <td>NaT</td>\n",
       "      <td>NaN</td>\n",
       "      <td>NaN</td>\n",
       "      <td>NaN</td>\n",
       "      <td>NaN</td>\n",
       "      <td>NaN</td>\n",
       "      <td>NaN</td>\n",
       "      <td>False</td>\n",
       "      <td>False</td>\n",
       "      <td>False</td>\n",
       "    </tr>\n",
       "    <tr>\n",
       "      <th>4</th>\n",
       "      <td>IncomingParcelInitialization</td>\n",
       "      <td>59818196</td>\n",
       "      <td>2019-09-02 02:55:03.536000+00:00</td>\n",
       "      <td>0000000059575322</td>\n",
       "      <td>CONFIRMED</td>\n",
       "      <td>NaT</td>\n",
       "      <td>NaT</td>\n",
       "      <td>NaT</td>\n",
       "      <td>NaN</td>\n",
       "      <td>NaT</td>\n",
       "      <td>...</td>\n",
       "      <td>NaT</td>\n",
       "      <td>NOTIFICATOR</td>\n",
       "      <td>NaN</td>\n",
       "      <td>NaN</td>\n",
       "      <td>B</td>\n",
       "      <td>NaN</td>\n",
       "      <td>NaN</td>\n",
       "      <td>False</td>\n",
       "      <td>False</td>\n",
       "      <td>False</td>\n",
       "    </tr>\n",
       "  </tbody>\n",
       "</table>\n",
       "<p>5 rows × 65 columns</p>\n",
       "</div>"
      ],
      "text/plain": [
       "                          class        id                     date_created  \\\n",
       "0  IncomingParcelInitialization  59818192 2019-09-02 02:05:05.471000+00:00   \n",
       "1            ParcelAnnouncement  59818193 2019-09-02 02:05:05.785000+00:00   \n",
       "2  IncomingParcelInitialization  59818194 2019-09-02 02:55:03.316000+00:00   \n",
       "3            ParcelAnnouncement  59818195 2019-09-02 02:55:03.331000+00:00   \n",
       "4  IncomingParcelInitialization  59818196 2019-09-02 02:55:03.536000+00:00   \n",
       "\n",
       "             number      state admission_date max_pickup_date  \\\n",
       "0  0000000059575318  CONFIRMED            NaT             NaT   \n",
       "1  0000000059575319  CONFIRMED            NaT             NaT   \n",
       "2  0000000059575320  CONFIRMED            NaT             NaT   \n",
       "3  0000000059575321  CONFIRMED            NaT             NaT   \n",
       "4  0000000059575322  CONFIRMED            NaT             NaT   \n",
       "\n",
       "  ready_for_pickup_date price_list price_calculation_date  ...  \\\n",
       "0                   NaT        NaN                    NaT  ...   \n",
       "1                   NaT        NaN                    NaT  ...   \n",
       "2                   NaT        NaN                    NaT  ...   \n",
       "3                   NaT        NaN                    NaT  ...   \n",
       "4                   NaT        NaN                    NaT  ...   \n",
       "\n",
       "  max_pickup_date_row  charge_for_pickup update_source update_state size_row  \\\n",
       "0                 NaT        NOTIFICATOR           NaN          NaN        B   \n",
       "1                 NaT                NaN           NaN          NaN      NaN   \n",
       "2                 NaT        NOTIFICATOR           NaN          NaN        B   \n",
       "3                 NaT                NaN           NaN          NaN      NaN   \n",
       "4                 NaT        NOTIFICATOR           NaN          NaN        B   \n",
       "\n",
       "  pickup_code_input_method origin_row force_online_payment_row  \\\n",
       "0                      NaN        NaN                    False   \n",
       "1                      NaN        NaN                    False   \n",
       "2                      NaN        NaN                    False   \n",
       "3                      NaN        NaN                    False   \n",
       "4                      NaN        NaN                    False   \n",
       "\n",
       "  attention_fragile_row non_standard_size_row  \n",
       "0                 False                 False  \n",
       "1                 False                 False  \n",
       "2                 False                 False  \n",
       "3                 False                 False  \n",
       "4                 False                 False  \n",
       "\n",
       "[5 rows x 65 columns]"
      ]
     },
     "execution_count": 5,
     "metadata": {},
     "output_type": "execute_result"
    }
   ],
   "source": [
    "data.head()"
   ]
  },
  {
   "cell_type": "code",
   "execution_count": 36,
   "metadata": {},
   "outputs": [
    {
     "data": {
      "text/plain": [
       "Timestamp('2019-09-02 02:05:05.471000+0000', tz='UTC')"
      ]
     },
     "execution_count": 36,
     "metadata": {},
     "output_type": "execute_result"
    }
   ],
   "source": [
    "min(data['date_created'])"
   ]
  },
  {
   "cell_type": "code",
   "execution_count": 38,
   "metadata": {},
   "outputs": [
    {
     "data": {
      "text/plain": [
       "Timestamp('2019-09-08 23:51:03.571000+0000', tz='UTC')"
      ]
     },
     "execution_count": 38,
     "metadata": {},
     "output_type": "execute_result"
    }
   ],
   "source": [
    "max(data['date_created'])"
   ]
  },
  {
   "cell_type": "markdown",
   "metadata": {},
   "source": [
    "# Let's crunch some numbers"
   ]
  },
  {
   "cell_type": "markdown",
   "metadata": {},
   "source": [
    "## Parcel value"
   ]
  },
  {
   "cell_type": "code",
   "execution_count": 26,
   "metadata": {},
   "outputs": [
    {
     "data": {
      "text/plain": [
       "<Figure size 720x576 with 0 Axes>"
      ]
     },
     "metadata": {},
     "output_type": "display_data"
    },
    {
     "data": {
      "image/png": "[encoded data removed]",
      "text/plain": [
       "<Figure size 360x360 with 1 Axes>"
      ]
     },
     "metadata": {
      "needs_background": "light"
     },
     "output_type": "display_data"
    }
   ],
   "source": [
    "plt.figure(figsize=(10, 8))\n",
    "sns.catplot(y='parcel_value', x='size_row', data=data)\n",
    "plt.title(\"Parcel values' distribution with respect to the size of the parcel\")\n",
    "plt.xlabel('Parcel size')\n",
    "plt.ylabel('Parcel value')\n",
    "plt.show()"
   ]
  },
  {
   "cell_type": "markdown",
   "metadata": {},
   "source": [
    "Is there statistical difference of the parcel value with respect to its size?"
   ]
  },
  {
   "cell_type": "code",
   "execution_count": 49,
   "metadata": {},
   "outputs": [
    {
     "name": "stdout",
     "output_type": "stream",
     "text": [
      "p-value for the test between parcel size B (median: 300.0) and A (median: 200.0): 0.0016\n",
      "p-value for the test between parcel size B (median: 300.0) and C (median: 500.0): 0.0040\n",
      "p-value for the test between parcel size A (median: 200.0) and C (median: 500.0): 0.0000\n"
     ]
    }
   ],
   "source": [
    "# H0 of Kruskal test - medians of the groups are equal\n",
    "for size_1, size_2 in itertools.combinations(data['size_row'].dropna().unique().to_list(), 2):\n",
    "    first_group = data.loc[(~data['parcel_value'].isna()) & (data['size_row']==size_1)]['parcel_value']\n",
    "    second_group = data.loc[(~data['parcel_value'].isna()) & (data['size_row']==size_2)]['parcel_value']\n",
    "    _, p_val = stats.kruskal(first_group, second_group)\n",
    "    print(f'p-value for the test between parcel size {size_1} (median: {first_group.median()}) and {size_2} (median: {second_group.median()}): {p_val:.4f}')"
   ]
  },
  {
   "cell_type": "code",
   "execution_count": 6,
   "metadata": {},
   "outputs": [],
   "source": [
    "data_with_parcel_value_provided = data.loc[data['parcel_id'].isin(data.loc[~data['parcel_value'].isna()]['parcel_id'])]"
   ]
  },
  {
   "cell_type": "code",
   "execution_count": 7,
   "metadata": {},
   "outputs": [],
   "source": [
    "def extract_dates(df, class_1, class_2, date_column, index_column, additional_columns = [], add_date_difference=True, check_state=True):\n",
    "    \"\"\"class_2 should be the class that follows class_1 in the workflow!\"\"\"\n",
    "    cols = ['class', date_column, index_column]\n",
    "    if check_state:\n",
    "        cols.extend(['state'])\n",
    "    if additional_columns:\n",
    "        cols.extend(additional_columns)\n",
    "    df = df[cols]\n",
    "    # class_1\n",
    "    cl_1 = df.loc[df['class']==class_1]\n",
    "    cl_1 = cl_1.set_index(index_column)\n",
    "    print(f'{cl_1.shape[0]} entries found with class {class_1}.')\n",
    "    if check_state:\n",
    "        not_confirmed = (cl_1['state']!='CONFIRMED').sum()\n",
    "        if not not_confirmed == 0:\n",
    "            warnings.warn(f'There are {not_confirmed} parcels whose state is not \"CONFIRMED\".')\n",
    "        cl_1 = cl_1.drop(columns=['state'])\n",
    "\n",
    "    cl_2 = df.loc[df['class']==class_2]\n",
    "    cl_2 = cl_2.set_index(index_column)\n",
    "    print(f'{cl_2.shape[0]} entries found with class {class_2}.')\n",
    "    if check_state:\n",
    "        not_confirmed = (cl_2['state']!='CONFIRMED').sum()\n",
    "        if not not_confirmed == 0:\n",
    "            warnings.warn(f'There are {not_confirmed} parcels whose state is not \"CONFIRMED\".')\n",
    "        cl_2 = cl_2.drop(columns=['state'])\n",
    "\n",
    "    ret = cl_1.merge(cl_2, left_index=True, right_index=True)\n",
    "    ret = ret.assign(date_diff = ret[date_column + '_y'] - ret[date_column + '_x'])\n",
    "    ret['date_diff'] = ret['date_diff'].apply(lambda x: x.total_seconds()/3600)  # difference in hours\n",
    "    return ret"
   ]
  },
  {
   "cell_type": "code",
   "execution_count": 8,
   "metadata": {},
   "outputs": [
    {
     "name": "stdout",
     "output_type": "stream",
     "text": [
      "20 entries found with class CustomerParcelPickup.\n",
      "9 entries found with class CustomerParcelPickupConfirmation.\n"
     ]
    }
   ],
   "source": [
    "df_1 = extract_dates(data_with_parcel_value_provided, 'CustomerParcelPickup', 'CustomerParcelPickupConfirmation', 'date_created', 'parcel_id', check_state=False)"
   ]
  },
  {
   "cell_type": "code",
   "execution_count": 9,
   "metadata": {},
   "outputs": [],
   "source": [
    "df_1 = df_1.merge(data.loc[(~data['parcel_value'].isna()) & (data['parcel_id'].isin(df_1.index))][['parcel_value', 'parcel_id']].set_index('parcel_id'),\n",
    "                  left_index=True, right_index=True)"
   ]
  },
  {
   "cell_type": "code",
   "execution_count": 10,
   "metadata": {},
   "outputs": [
    {
     "data": {
      "image/png": "[encoded data removed]",
      "text/plain": [
       "<Figure size 720x576 with 1 Axes>"
      ]
     },
     "metadata": {
      "needs_background": "light"
     },
     "output_type": "display_data"
    }
   ],
   "source": [
    "plt.figure(figsize=(10, 8))\n",
    "sns.scatterplot(x='parcel_value', y='date_diff', data=df_1, s=100)\n",
    "plt.xlabel('Parcel value')\n",
    "plt.ylabel('Package waiting for pickup (h)')\n",
    "plt.show()"
   ]
  },
  {
   "cell_type": "markdown",
   "metadata": {},
   "source": [
    "So few parcels..."
   ]
  },
  {
   "cell_type": "code",
   "execution_count": 11,
   "metadata": {},
   "outputs": [],
   "source": [
    "def get_state_diagram(df, date_column, skip_optional_states=False):\n",
    "    OPTIONAL_STATES = ['OrderDocument', 'ApplyRebate', 'ParcelInTransitDocument', 'IncomingParcelInitialization']\n",
    "    df = df.sort_values(date_column)\n",
    "    states = df['class'].values\n",
    "    if skip_optional_states:\n",
    "        states = states[np.logical_not(np.in1d(states, OPTIONAL_STATES, ))]\n",
    "    ret = ' --> '.join(states)\n",
    "    return ret"
   ]
  },
  {
   "cell_type": "code",
   "execution_count": 12,
   "metadata": {},
   "outputs": [
    {
     "data": {
      "text/plain": [
       "'ParcelCreation --> ParcelsAssignedToCourierCompany --> CustomerPosAdmission --> ParcelReadyForDispatch'"
      ]
     },
     "execution_count": 12,
     "metadata": {},
     "output_type": "execute_result"
    }
   ],
   "source": [
    "n = 19\n",
    "get_state_diagram(data.loc[data['parcel_id'].isin(data.loc[~data['parcel_value'].isna()]['parcel_id'].iloc[n:(n+1)])], 'date_created', skip_optional_states=True)"
   ]
  },
  {
   "cell_type": "code",
   "execution_count": 13,
   "metadata": {},
   "outputs": [],
   "source": [
    "import plotly.graph_objects as go\n",
    "from plotly.offline import init_notebook_mode"
   ]
  },
  {
   "cell_type": "code",
   "execution_count": 269,
   "metadata": {},
   "outputs": [
    {
     "data": {
      "text/html": [
       "        <script type=\"text/javascript\">\n",
       "        window.PlotlyConfig = {MathJaxConfig: 'local'};\n",
       "        if (window.MathJax) {MathJax.Hub.Config({SVG: {font: \"STIX-Web\"}});}\n",
       "        if (typeof require !== 'undefined') {\n",
       "        require.undef(\"plotly\");\n",
       "        requirejs.config({\n",
       "            paths: {\n",
       "                'plotly': ['https://cdn.plot.ly/plotly-latest.min']\n",
       "            }\n",
       "        });\n",
       "        require(['plotly'], function(Plotly) {\n",
       "            window._Plotly = Plotly;\n",
       "        });\n",
       "        }\n",
       "        </script>\n",
       "        "
      ]
     },
     "metadata": {},
     "output_type": "display_data"
    }
   ],
   "source": [
    "init_notebook_mode(connected=True)"
   ]
  },
  {
   "cell_type": "code",
   "execution_count": 14,
   "metadata": {},
   "outputs": [],
   "source": [
    "def pairwise(iterable):\n",
    "    \"s -> (s0,s1), (s1,s2), (s2, s3), ...\"\n",
    "    a, b = itertools.tee(iterable)\n",
    "    next(b, None)\n",
    "    return zip(a, b)"
   ]
  },
  {
   "cell_type": "code",
   "execution_count": 15,
   "metadata": {},
   "outputs": [],
   "source": [
    "flows = dict()\n",
    "all_states = dict()\n",
    "all_states_set = set()\n",
    "\n",
    "for parcel_id, df in data_with_parcel_value_provided.groupby(['parcel_id']):\n",
    "    df = df.sort_values('date_created')\n",
    "    for a_pair in pairwise(df['class']):\n",
    "        if a_pair in flows:\n",
    "            flows[a_pair] += 1\n",
    "        else:\n",
    "            flows[a_pair] = 1\n",
    "        if not a_pair[0] in all_states_set:\n",
    "            all_states_set.add(a_pair[0])\n",
    "            if not all_states:\n",
    "                all_states[a_pair[0]] = 0\n",
    "            else:\n",
    "                all_states[a_pair[0]] = max(all_states.values()) + 1\n",
    "        if not a_pair[1] in all_states_set:\n",
    "            all_states_set.add(a_pair[1])\n",
    "            all_states[a_pair[1]] = max(all_states.values()) + 1"
   ]
  },
  {
   "cell_type": "markdown",
   "metadata": {},
   "source": [
    "In order to run the diagram below, it may be necessary to activate jupyter extensions for jupyter lab:\n",
    "\n",
    "jupyter labextension install jupyterlab-plotly\n",
    "\n",
    "jupyter lab build"
   ]
  },
  {
   "cell_type": "code",
   "execution_count": 27,
   "metadata": {},
   "outputs": [
    {
     "data": {
      "application/vnd.plotly.v1+json": {
       "config": {
        "plotlyServerURL": "https://plot.ly"
       },
       "data": [
        {
         "link": {
          "source": [
           0,
           1,
           2,
           3,
           4,
           5,
           6,
           7,
           8,
           9,
           10,
           11,
           12,
           11,
           13,
           8,
           11,
           8,
           7,
           8,
           7,
           5,
           15,
           16,
           11,
           17,
           7,
           14
          ],
          "target": [
           1,
           2,
           3,
           4,
           5,
           6,
           7,
           8,
           9,
           10,
           11,
           12,
           11,
           13,
           14,
           11,
           14,
           10,
           9,
           7,
           11,
           15,
           16,
           11,
           17,
           14,
           10,
           9
          ],
          "value": [
           460,
           460,
           460,
           379,
           379,
           223,
           223,
           211,
           12,
           10,
           20,
           20,
           9,
           9,
           9,
           122,
           64,
           9,
           4,
           1,
           1,
           2,
           2,
           2,
           2,
           2,
           1,
           1
          ]
         },
         "node": {
          "color": "blue",
          "label": [
           "ParcelCreation",
           "OrderDocument",
           "ParcelsAssignedToCourierCompany",
           "ApplyRebate",
           "CustomerPosAdmission",
           "ParcelReadyForDispatch",
           "PosDispatchNote",
           "ConfirmPosDispatchNote",
           "ParcelInTransitDocument",
           "HelpdeskModification",
           "CourierParcelAdmission",
           "CourierParcelDataUpdate",
           "CustomerParcelPickup",
           "CustomerParcelPickupConfirmation",
           "ParcelDelivered",
           "CourierWillNotCollectParcel",
           "ParcelReturningToPosSender",
           "ConfirmReturnDispatchNoteToSender"
          ],
          "line": {
           "color": "black",
           "width": 0.5
          },
          "pad": 15,
          "thickness": 15
         },
         "orientation": "v",
         "type": "sankey",
         "valueformat": ".0f"
        }
       ],
       "layout": {
        "font": {
         "size": 10
        },
        "height": 772,
        "template": {
         "data": {
          "bar": [
           {
            "error_x": {
             "color": "#2a3f5f"
            },
            "error_y": {
             "color": "#2a3f5f"
            },
            "marker": {
             "line": {
              "color": "#E5ECF6",
              "width": 0.5
             }
            },
            "type": "bar"
           }
          ],
          "barpolar": [
           {
            "marker": {
             "line": {
              "color": "#E5ECF6",
              "width": 0.5
             }
            },
            "type": "barpolar"
           }
          ],
          "carpet": [
           {
            "aaxis": {
             "endlinecolor": "#2a3f5f",
             "gridcolor": "white",
             "linecolor": "white",
             "minorgridcolor": "white",
             "startlinecolor": "#2a3f5f"
            },
            "baxis": {
             "endlinecolor": "#2a3f5f",
             "gridcolor": "white",
             "linecolor": "white",
             "minorgridcolor": "white",
             "startlinecolor": "#2a3f5f"
            },
            "type": "carpet"
           }
          ],
          "choropleth": [
           {
            "colorbar": {
             "outlinewidth": 0,
             "ticks": ""
            },
            "type": "choropleth"
           }
          ],
          "contour": [
           {
            "colorbar": {
             "outlinewidth": 0,
             "ticks": ""
            },
            "colorscale": [
             [
              0,
              "#0d0887"
             ],
             [
              0.1111111111111111,
              "#46039f"
             ],
             [
              0.2222222222222222,
              "#7201a8"
             ],
             [
              0.3333333333333333,
              "#9c179e"
             ],
             [
              0.4444444444444444,
              "#bd3786"
             ],
             [
              0.5555555555555556,
              "#d8576b"
             ],
             [
              0.6666666666666666,
              "#ed7953"
             ],
             [
              0.7777777777777778,
              "#fb9f3a"
             ],
             [
              0.8888888888888888,
              "#fdca26"
             ],
             [
              1,
              "#f0f921"
             ]
            ],
            "type": "contour"
           }
          ],
          "contourcarpet": [
           {
            "colorbar": {
             "outlinewidth": 0,
             "ticks": ""
            },
            "type": "contourcarpet"
           }
          ],
          "heatmap": [
           {
            "colorbar": {
             "outlinewidth": 0,
             "ticks": ""
            },
            "colorscale": [
             [
              0,
              "#0d0887"
             ],
             [
              0.1111111111111111,
              "#46039f"
             ],
             [
              0.2222222222222222,
              "#7201a8"
             ],
             [
              0.3333333333333333,
              "#9c179e"
             ],
             [
              0.4444444444444444,
              "#bd3786"
             ],
             [
              0.5555555555555556,
              "#d8576b"
             ],
             [
              0.6666666666666666,
              "#ed7953"
             ],
             [
              0.7777777777777778,
              "#fb9f3a"
             ],
             [
              0.8888888888888888,
              "#fdca26"
             ],
             [
              1,
              "#f0f921"
             ]
            ],
            "type": "heatmap"
           }
          ],
          "heatmapgl": [
           {
            "colorbar": {
             "outlinewidth": 0,
             "ticks": ""
            },
            "colorscale": [
             [
              0,
              "#0d0887"
             ],
             [
              0.1111111111111111,
              "#46039f"
             ],
             [
              0.2222222222222222,
              "#7201a8"
             ],
             [
              0.3333333333333333,
              "#9c179e"
             ],
             [
              0.4444444444444444,
              "#bd3786"
             ],
             [
              0.5555555555555556,
              "#d8576b"
             ],
             [
              0.6666666666666666,
              "#ed7953"
             ],
             [
              0.7777777777777778,
              "#fb9f3a"
             ],
             [
              0.8888888888888888,
              "#fdca26"
             ],
             [
              1,
              "#f0f921"
             ]
            ],
            "type": "heatmapgl"
           }
          ],
          "histogram": [
           {
            "marker": {
             "colorbar": {
              "outlinewidth": 0,
              "ticks": ""
             }
            },
            "type": "histogram"
           }
          ],
          "histogram2d": [
           {
            "colorbar": {
             "outlinewidth": 0,
             "ticks": ""
            },
            "colorscale": [
             [
              0,
              "#0d0887"
             ],
             [
              0.1111111111111111,
              "#46039f"
             ],
             [
              0.2222222222222222,
              "#7201a8"
             ],
             [
              0.3333333333333333,
              "#9c179e"
             ],
             [
              0.4444444444444444,
              "#bd3786"
             ],
             [
              0.5555555555555556,
              "#d8576b"
             ],
             [
              0.6666666666666666,
              "#ed7953"
             ],
             [
              0.7777777777777778,
              "#fb9f3a"
             ],
             [
              0.8888888888888888,
              "#fdca26"
             ],
             [
              1,
              "#f0f921"
             ]
            ],
            "type": "histogram2d"
           }
          ],
          "histogram2dcontour": [
           {
            "colorbar": {
             "outlinewidth": 0,
             "ticks": ""
            },
            "colorscale": [
             [
              0,
              "#0d0887"
             ],
             [
              0.1111111111111111,
              "#46039f"
             ],
             [
              0.2222222222222222,
              "#7201a8"
             ],
             [
              0.3333333333333333,
              "#9c179e"
             ],
             [
              0.4444444444444444,
              "#bd3786"
             ],
             [
              0.5555555555555556,
              "#d8576b"
             ],
             [
              0.6666666666666666,
              "#ed7953"
             ],
             [
              0.7777777777777778,
              "#fb9f3a"
             ],
             [
              0.8888888888888888,
              "#fdca26"
             ],
             [
              1,
              "#f0f921"
             ]
            ],
            "type": "histogram2dcontour"
           }
          ],
          "mesh3d": [
           {
            "colorbar": {
             "outlinewidth": 0,
             "ticks": ""
            },
            "type": "mesh3d"
           }
          ],
          "parcoords": [
           {
            "line": {
             "colorbar": {
              "outlinewidth": 0,
              "ticks": ""
             }
            },
            "type": "parcoords"
           }
          ],
          "pie": [
           {
            "automargin": true,
            "type": "pie"
           }
          ],
          "scatter": [
           {
            "marker": {
             "colorbar": {
              "outlinewidth": 0,
              "ticks": ""
             }
            },
            "type": "scatter"
           }
          ],
          "scatter3d": [
           {
            "line": {
             "colorbar": {
              "outlinewidth": 0,
              "ticks": ""
             }
            },
            "marker": {
             "colorbar": {
              "outlinewidth": 0,
              "ticks": ""
             }
            },
            "type": "scatter3d"
           }
          ],
          "scattercarpet": [
           {
            "marker": {
             "colorbar": {
              "outlinewidth": 0,
              "ticks": ""
             }
            },
            "type": "scattercarpet"
           }
          ],
          "scattergeo": [
           {
            "marker": {
             "colorbar": {
              "outlinewidth": 0,
              "ticks": ""
             }
            },
            "type": "scattergeo"
           }
          ],
          "scattergl": [
           {
            "marker": {
             "colorbar": {
              "outlinewidth": 0,
              "ticks": ""
             }
            },
            "type": "scattergl"
           }
          ],
          "scattermapbox": [
           {
            "marker": {
             "colorbar": {
              "outlinewidth": 0,
              "ticks": ""
             }
            },
            "type": "scattermapbox"
           }
          ],
          "scatterpolar": [
           {
            "marker": {
             "colorbar": {
              "outlinewidth": 0,
              "ticks": ""
             }
            },
            "type": "scatterpolar"
           }
          ],
          "scatterpolargl": [
           {
            "marker": {
             "colorbar": {
              "outlinewidth": 0,
              "ticks": ""
             }
            },
            "type": "scatterpolargl"
           }
          ],
          "scatterternary": [
           {
            "marker": {
             "colorbar": {
              "outlinewidth": 0,
              "ticks": ""
             }
            },
            "type": "scatterternary"
           }
          ],
          "surface": [
           {
            "colorbar": {
             "outlinewidth": 0,
             "ticks": ""
            },
            "colorscale": [
             [
              0,
              "#0d0887"
             ],
             [
              0.1111111111111111,
              "#46039f"
             ],
             [
              0.2222222222222222,
              "#7201a8"
             ],
             [
              0.3333333333333333,
              "#9c179e"
             ],
             [
              0.4444444444444444,
              "#bd3786"
             ],
             [
              0.5555555555555556,
              "#d8576b"
             ],
             [
              0.6666666666666666,
              "#ed7953"
             ],
             [
              0.7777777777777778,
              "#fb9f3a"
             ],
             [
              0.8888888888888888,
              "#fdca26"
             ],
             [
              1,
              "#f0f921"
             ]
            ],
            "type": "surface"
           }
          ],
          "table": [
           {
            "cells": {
             "fill": {
              "color": "#EBF0F8"
             },
             "line": {
              "color": "white"
             }
            },
            "header": {
             "fill": {
              "color": "#C8D4E3"
             },
             "line": {
              "color": "white"
             }
            },
            "type": "table"
           }
          ]
         },
         "layout": {
          "annotationdefaults": {
           "arrowcolor": "#2a3f5f",
           "arrowhead": 0,
           "arrowwidth": 1
          },
          "coloraxis": {
           "colorbar": {
            "outlinewidth": 0,
            "ticks": ""
           }
          },
          "colorscale": {
           "diverging": [
            [
             0,
             "#8e0152"
            ],
            [
             0.1,
             "#c51b7d"
            ],
            [
             0.2,
             "#de77ae"
            ],
            [
             0.3,
             "#f1b6da"
            ],
            [
             0.4,
             "#fde0ef"
            ],
            [
             0.5,
             "#f7f7f7"
            ],
            [
             0.6,
             "#e6f5d0"
            ],
            [
             0.7,
             "#b8e186"
            ],
            [
             0.8,
             "#7fbc41"
            ],
            [
             0.9,
             "#4d9221"
            ],
            [
             1,
             "#276419"
            ]
           ],
           "sequential": [
            [
             0,
             "#0d0887"
            ],
            [
             0.1111111111111111,
             "#46039f"
            ],
            [
             0.2222222222222222,
             "#7201a8"
            ],
            [
             0.3333333333333333,
             "#9c179e"
            ],
            [
             0.4444444444444444,
             "#bd3786"
            ],
            [
             0.5555555555555556,
             "#d8576b"
            ],
            [
             0.6666666666666666,
             "#ed7953"
            ],
            [
             0.7777777777777778,
             "#fb9f3a"
            ],
            [
             0.8888888888888888,
             "#fdca26"
            ],
            [
             1,
             "#f0f921"
            ]
           ],
           "sequentialminus": [
            [
             0,
             "#0d0887"
            ],
            [
             0.1111111111111111,
             "#46039f"
            ],
            [
             0.2222222222222222,
             "#7201a8"
            ],
            [
             0.3333333333333333,
             "#9c179e"
            ],
            [
             0.4444444444444444,
             "#bd3786"
            ],
            [
             0.5555555555555556,
             "#d8576b"
            ],
            [
             0.6666666666666666,
             "#ed7953"
            ],
            [
             0.7777777777777778,
             "#fb9f3a"
            ],
            [
             0.8888888888888888,
             "#fdca26"
            ],
            [
             1,
             "#f0f921"
            ]
           ]
          },
          "colorway": [
           "#636efa",
           "#EF553B",
           "#00cc96",
           "#ab63fa",
           "#FFA15A",
           "#19d3f3",
           "#FF6692",
           "#B6E880",
           "#FF97FF",
           "#FECB52"
          ],
          "font": {
           "color": "#2a3f5f"
          },
          "geo": {
           "bgcolor": "white",
           "lakecolor": "white",
           "landcolor": "#E5ECF6",
           "showlakes": true,
           "showland": true,
           "subunitcolor": "white"
          },
          "hoverlabel": {
           "align": "left"
          },
          "hovermode": "closest",
          "mapbox": {
           "style": "light"
          },
          "paper_bgcolor": "white",
          "plot_bgcolor": "#E5ECF6",
          "polar": {
           "angularaxis": {
            "gridcolor": "white",
            "linecolor": "white",
            "ticks": ""
           },
           "bgcolor": "#E5ECF6",
           "radialaxis": {
            "gridcolor": "white",
            "linecolor": "white",
            "ticks": ""
           }
          },
          "scene": {
           "xaxis": {
            "backgroundcolor": "#E5ECF6",
            "gridcolor": "white",
            "gridwidth": 2,
            "linecolor": "white",
            "showbackground": true,
            "ticks": "",
            "zerolinecolor": "white"
           },
           "yaxis": {
            "backgroundcolor": "#E5ECF6",
            "gridcolor": "white",
            "gridwidth": 2,
            "linecolor": "white",
            "showbackground": true,
            "ticks": "",
            "zerolinecolor": "white"
           },
           "zaxis": {
            "backgroundcolor": "#E5ECF6",
            "gridcolor": "white",
            "gridwidth": 2,
            "linecolor": "white",
            "showbackground": true,
            "ticks": "",
            "zerolinecolor": "white"
           }
          },
          "shapedefaults": {
           "line": {
            "color": "#2a3f5f"
           }
          },
          "ternary": {
           "aaxis": {
            "gridcolor": "white",
            "linecolor": "white",
            "ticks": ""
           },
           "baxis": {
            "gridcolor": "white",
            "linecolor": "white",
            "ticks": ""
           },
           "bgcolor": "#E5ECF6",
           "caxis": {
            "gridcolor": "white",
            "linecolor": "white",
            "ticks": ""
           }
          },
          "title": {
           "x": 0.05
          },
          "xaxis": {
           "automargin": true,
           "gridcolor": "white",
           "linecolor": "white",
           "ticks": "",
           "title": {
            "standoff": 15
           },
           "zerolinecolor": "white",
           "zerolinewidth": 2
          },
          "yaxis": {
           "automargin": true,
           "gridcolor": "white",
           "linecolor": "white",
           "ticks": "",
           "title": {
            "standoff": 15
           },
           "zerolinecolor": "white",
           "zerolinewidth": 2
          }
         }
        },
        "title": {
         "text": "Changes of states for the packages for whose the price was provided."
        },
        "width": 950
       }
      },
      "text/html": [
       "<div>\n",
       "        \n",
       "        \n",
       "            <div id=\"07a497ca-a80a-4d87-b8b9-0f14d056defe\" class=\"plotly-graph-div\" style=\"height:772px; width:950px;\"></div>\n",
       "            <script type=\"text/javascript\">\n",
       "                require([\"plotly\"], function(Plotly) {\n",
       "                    window.PLOTLYENV=window.PLOTLYENV || {};\n",
       "                    \n",
       "                if (document.getElementById(\"07a497ca-a80a-4d87-b8b9-0f14d056defe\")) {\n",
       "                    Plotly.newPlot(\n",
       "                        '07a497ca-a80a-4d87-b8b9-0f14d056defe',\n",
       "                        [{\"link\": {\"source\": [0, 1, 2, 3, 4, 5, 6, 7, 8, 9, 10, 11, 12, 11, 13, 8, 11, 8, 7, 8, 7, 5, 15, 16, 11, 17, 7, 14], \"target\": [1, 2, 3, 4, 5, 6, 7, 8, 9, 10, 11, 12, 11, 13, 14, 11, 14, 10, 9, 7, 11, 15, 16, 11, 17, 14, 10, 9], \"value\": [460, 460, 460, 379, 379, 223, 223, 211, 12, 10, 20, 20, 9, 9, 9, 122, 64, 9, 4, 1, 1, 2, 2, 2, 2, 2, 1, 1]}, \"node\": {\"color\": \"blue\", \"label\": [\"ParcelCreation\", \"OrderDocument\", \"ParcelsAssignedToCourierCompany\", \"ApplyRebate\", \"CustomerPosAdmission\", \"ParcelReadyForDispatch\", \"PosDispatchNote\", \"ConfirmPosDispatchNote\", \"ParcelInTransitDocument\", \"HelpdeskModification\", \"CourierParcelAdmission\", \"CourierParcelDataUpdate\", \"CustomerParcelPickup\", \"CustomerParcelPickupConfirmation\", \"ParcelDelivered\", \"CourierWillNotCollectParcel\", \"ParcelReturningToPosSender\", \"ConfirmReturnDispatchNoteToSender\"], \"line\": {\"color\": \"black\", \"width\": 0.5}, \"pad\": 15, \"thickness\": 15}, \"orientation\": \"v\", \"type\": \"sankey\", \"valueformat\": \".0f\"}],\n",
       "                        {\"font\": {\"size\": 10}, \"height\": 772, \"template\": {\"data\": {\"bar\": [{\"error_x\": {\"color\": \"#2a3f5f\"}, \"error_y\": {\"color\": \"#2a3f5f\"}, \"marker\": {\"line\": {\"color\": \"#E5ECF6\", \"width\": 0.5}}, \"type\": \"bar\"}], \"barpolar\": [{\"marker\": {\"line\": {\"color\": \"#E5ECF6\", \"width\": 0.5}}, \"type\": \"barpolar\"}], \"carpet\": [{\"aaxis\": {\"endlinecolor\": \"#2a3f5f\", \"gridcolor\": \"white\", \"linecolor\": \"white\", \"minorgridcolor\": \"white\", \"startlinecolor\": \"#2a3f5f\"}, \"baxis\": {\"endlinecolor\": \"#2a3f5f\", \"gridcolor\": \"white\", \"linecolor\": \"white\", \"minorgridcolor\": \"white\", \"startlinecolor\": \"#2a3f5f\"}, \"type\": \"carpet\"}], \"choropleth\": [{\"colorbar\": {\"outlinewidth\": 0, \"ticks\": \"\"}, \"type\": \"choropleth\"}], \"contour\": [{\"colorbar\": {\"outlinewidth\": 0, \"ticks\": \"\"}, \"colorscale\": [[0.0, \"#0d0887\"], [0.1111111111111111, \"#46039f\"], [0.2222222222222222, \"#7201a8\"], [0.3333333333333333, \"#9c179e\"], [0.4444444444444444, \"#bd3786\"], [0.5555555555555556, \"#d8576b\"], [0.6666666666666666, \"#ed7953\"], [0.7777777777777778, \"#fb9f3a\"], [0.8888888888888888, \"#fdca26\"], [1.0, \"#f0f921\"]], \"type\": \"contour\"}], \"contourcarpet\": [{\"colorbar\": {\"outlinewidth\": 0, \"ticks\": \"\"}, \"type\": \"contourcarpet\"}], \"heatmap\": [{\"colorbar\": {\"outlinewidth\": 0, \"ticks\": \"\"}, \"colorscale\": [[0.0, \"#0d0887\"], [0.1111111111111111, \"#46039f\"], [0.2222222222222222, \"#7201a8\"], [0.3333333333333333, \"#9c179e\"], [0.4444444444444444, \"#bd3786\"], [0.5555555555555556, \"#d8576b\"], [0.6666666666666666, \"#ed7953\"], [0.7777777777777778, \"#fb9f3a\"], [0.8888888888888888, \"#fdca26\"], [1.0, \"#f0f921\"]], \"type\": \"heatmap\"}], \"heatmapgl\": [{\"colorbar\": {\"outlinewidth\": 0, \"ticks\": \"\"}, \"colorscale\": [[0.0, \"#0d0887\"], [0.1111111111111111, \"#46039f\"], [0.2222222222222222, \"#7201a8\"], [0.3333333333333333, \"#9c179e\"], [0.4444444444444444, \"#bd3786\"], [0.5555555555555556, \"#d8576b\"], [0.6666666666666666, \"#ed7953\"], [0.7777777777777778, \"#fb9f3a\"], [0.8888888888888888, \"#fdca26\"], [1.0, \"#f0f921\"]], \"type\": \"heatmapgl\"}], \"histogram\": [{\"marker\": {\"colorbar\": {\"outlinewidth\": 0, \"ticks\": \"\"}}, \"type\": \"histogram\"}], \"histogram2d\": [{\"colorbar\": {\"outlinewidth\": 0, \"ticks\": \"\"}, \"colorscale\": [[0.0, \"#0d0887\"], [0.1111111111111111, \"#46039f\"], [0.2222222222222222, \"#7201a8\"], [0.3333333333333333, \"#9c179e\"], [0.4444444444444444, \"#bd3786\"], [0.5555555555555556, \"#d8576b\"], [0.6666666666666666, \"#ed7953\"], [0.7777777777777778, \"#fb9f3a\"], [0.8888888888888888, \"#fdca26\"], [1.0, \"#f0f921\"]], \"type\": \"histogram2d\"}], \"histogram2dcontour\": [{\"colorbar\": {\"outlinewidth\": 0, \"ticks\": \"\"}, \"colorscale\": [[0.0, \"#0d0887\"], [0.1111111111111111, \"#46039f\"], [0.2222222222222222, \"#7201a8\"], [0.3333333333333333, \"#9c179e\"], [0.4444444444444444, \"#bd3786\"], [0.5555555555555556, \"#d8576b\"], [0.6666666666666666, \"#ed7953\"], [0.7777777777777778, \"#fb9f3a\"], [0.8888888888888888, \"#fdca26\"], [1.0, \"#f0f921\"]], \"type\": \"histogram2dcontour\"}], \"mesh3d\": [{\"colorbar\": {\"outlinewidth\": 0, \"ticks\": \"\"}, \"type\": \"mesh3d\"}], \"parcoords\": [{\"line\": {\"colorbar\": {\"outlinewidth\": 0, \"ticks\": \"\"}}, \"type\": \"parcoords\"}], \"pie\": [{\"automargin\": true, \"type\": \"pie\"}], \"scatter\": [{\"marker\": {\"colorbar\": {\"outlinewidth\": 0, \"ticks\": \"\"}}, \"type\": \"scatter\"}], \"scatter3d\": [{\"line\": {\"colorbar\": {\"outlinewidth\": 0, \"ticks\": \"\"}}, \"marker\": {\"colorbar\": {\"outlinewidth\": 0, \"ticks\": \"\"}}, \"type\": \"scatter3d\"}], \"scattercarpet\": [{\"marker\": {\"colorbar\": {\"outlinewidth\": 0, \"ticks\": \"\"}}, \"type\": \"scattercarpet\"}], \"scattergeo\": [{\"marker\": {\"colorbar\": {\"outlinewidth\": 0, \"ticks\": \"\"}}, \"type\": \"scattergeo\"}], \"scattergl\": [{\"marker\": {\"colorbar\": {\"outlinewidth\": 0, \"ticks\": \"\"}}, \"type\": \"scattergl\"}], \"scattermapbox\": [{\"marker\": {\"colorbar\": {\"outlinewidth\": 0, \"ticks\": \"\"}}, \"type\": \"scattermapbox\"}], \"scatterpolar\": [{\"marker\": {\"colorbar\": {\"outlinewidth\": 0, \"ticks\": \"\"}}, \"type\": \"scatterpolar\"}], \"scatterpolargl\": [{\"marker\": {\"colorbar\": {\"outlinewidth\": 0, \"ticks\": \"\"}}, \"type\": \"scatterpolargl\"}], \"scatterternary\": [{\"marker\": {\"colorbar\": {\"outlinewidth\": 0, \"ticks\": \"\"}}, \"type\": \"scatterternary\"}], \"surface\": [{\"colorbar\": {\"outlinewidth\": 0, \"ticks\": \"\"}, \"colorscale\": [[0.0, \"#0d0887\"], [0.1111111111111111, \"#46039f\"], [0.2222222222222222, \"#7201a8\"], [0.3333333333333333, \"#9c179e\"], [0.4444444444444444, \"#bd3786\"], [0.5555555555555556, \"#d8576b\"], [0.6666666666666666, \"#ed7953\"], [0.7777777777777778, \"#fb9f3a\"], [0.8888888888888888, \"#fdca26\"], [1.0, \"#f0f921\"]], \"type\": \"surface\"}], \"table\": [{\"cells\": {\"fill\": {\"color\": \"#EBF0F8\"}, \"line\": {\"color\": \"white\"}}, \"header\": {\"fill\": {\"color\": \"#C8D4E3\"}, \"line\": {\"color\": \"white\"}}, \"type\": \"table\"}]}, \"layout\": {\"annotationdefaults\": {\"arrowcolor\": \"#2a3f5f\", \"arrowhead\": 0, \"arrowwidth\": 1}, \"coloraxis\": {\"colorbar\": {\"outlinewidth\": 0, \"ticks\": \"\"}}, \"colorscale\": {\"diverging\": [[0, \"#8e0152\"], [0.1, \"#c51b7d\"], [0.2, \"#de77ae\"], [0.3, \"#f1b6da\"], [0.4, \"#fde0ef\"], [0.5, \"#f7f7f7\"], [0.6, \"#e6f5d0\"], [0.7, \"#b8e186\"], [0.8, \"#7fbc41\"], [0.9, \"#4d9221\"], [1, \"#276419\"]], \"sequential\": [[0.0, \"#0d0887\"], [0.1111111111111111, \"#46039f\"], [0.2222222222222222, \"#7201a8\"], [0.3333333333333333, \"#9c179e\"], [0.4444444444444444, \"#bd3786\"], [0.5555555555555556, \"#d8576b\"], [0.6666666666666666, \"#ed7953\"], [0.7777777777777778, \"#fb9f3a\"], [0.8888888888888888, \"#fdca26\"], [1.0, \"#f0f921\"]], \"sequentialminus\": [[0.0, \"#0d0887\"], [0.1111111111111111, \"#46039f\"], [0.2222222222222222, \"#7201a8\"], [0.3333333333333333, \"#9c179e\"], [0.4444444444444444, \"#bd3786\"], [0.5555555555555556, \"#d8576b\"], [0.6666666666666666, \"#ed7953\"], [0.7777777777777778, \"#fb9f3a\"], [0.8888888888888888, \"#fdca26\"], [1.0, \"#f0f921\"]]}, \"colorway\": [\"#636efa\", \"#EF553B\", \"#00cc96\", \"#ab63fa\", \"#FFA15A\", \"#19d3f3\", \"#FF6692\", \"#B6E880\", \"#FF97FF\", \"#FECB52\"], \"font\": {\"color\": \"#2a3f5f\"}, \"geo\": {\"bgcolor\": \"white\", \"lakecolor\": \"white\", \"landcolor\": \"#E5ECF6\", \"showlakes\": true, \"showland\": true, \"subunitcolor\": \"white\"}, \"hoverlabel\": {\"align\": \"left\"}, \"hovermode\": \"closest\", \"mapbox\": {\"style\": \"light\"}, \"paper_bgcolor\": \"white\", \"plot_bgcolor\": \"#E5ECF6\", \"polar\": {\"angularaxis\": {\"gridcolor\": \"white\", \"linecolor\": \"white\", \"ticks\": \"\"}, \"bgcolor\": \"#E5ECF6\", \"radialaxis\": {\"gridcolor\": \"white\", \"linecolor\": \"white\", \"ticks\": \"\"}}, \"scene\": {\"xaxis\": {\"backgroundcolor\": \"#E5ECF6\", \"gridcolor\": \"white\", \"gridwidth\": 2, \"linecolor\": \"white\", \"showbackground\": true, \"ticks\": \"\", \"zerolinecolor\": \"white\"}, \"yaxis\": {\"backgroundcolor\": \"#E5ECF6\", \"gridcolor\": \"white\", \"gridwidth\": 2, \"linecolor\": \"white\", \"showbackground\": true, \"ticks\": \"\", \"zerolinecolor\": \"white\"}, \"zaxis\": {\"backgroundcolor\": \"#E5ECF6\", \"gridcolor\": \"white\", \"gridwidth\": 2, \"linecolor\": \"white\", \"showbackground\": true, \"ticks\": \"\", \"zerolinecolor\": \"white\"}}, \"shapedefaults\": {\"line\": {\"color\": \"#2a3f5f\"}}, \"ternary\": {\"aaxis\": {\"gridcolor\": \"white\", \"linecolor\": \"white\", \"ticks\": \"\"}, \"baxis\": {\"gridcolor\": \"white\", \"linecolor\": \"white\", \"ticks\": \"\"}, \"bgcolor\": \"#E5ECF6\", \"caxis\": {\"gridcolor\": \"white\", \"linecolor\": \"white\", \"ticks\": \"\"}}, \"title\": {\"x\": 0.05}, \"xaxis\": {\"automargin\": true, \"gridcolor\": \"white\", \"linecolor\": \"white\", \"ticks\": \"\", \"title\": {\"standoff\": 15}, \"zerolinecolor\": \"white\", \"zerolinewidth\": 2}, \"yaxis\": {\"automargin\": true, \"gridcolor\": \"white\", \"linecolor\": \"white\", \"ticks\": \"\", \"title\": {\"standoff\": 15}, \"zerolinecolor\": \"white\", \"zerolinewidth\": 2}}}, \"title\": {\"text\": \"Changes of states for the packages for whose the price was provided.\"}, \"width\": 950},\n",
       "                        {\"responsive\": true}\n",
       "                    ).then(function(){\n",
       "                            \n",
       "var gd = document.getElementById('07a497ca-a80a-4d87-b8b9-0f14d056defe');\n",
       "var x = new MutationObserver(function (mutations, observer) {{\n",
       "        var display = window.getComputedStyle(gd).display;\n",
       "        if (!display || display === 'none') {{\n",
       "            console.log([gd, 'removed!']);\n",
       "            Plotly.purge(gd);\n",
       "            observer.disconnect();\n",
       "        }}\n",
       "}});\n",
       "\n",
       "// Listen for the removal of the full notebook cells\n",
       "var notebookContainer = gd.closest('#notebook-container');\n",
       "if (notebookContainer) {{\n",
       "    x.observe(notebookContainer, {childList: true});\n",
       "}}\n",
       "\n",
       "// Listen for the clearing of the current output cell\n",
       "var outputEl = gd.closest('.output');\n",
       "if (outputEl) {{\n",
       "    x.observe(outputEl, {childList: true});\n",
       "}}\n",
       "\n",
       "                        })\n",
       "                };\n",
       "                });\n",
       "            </script>\n",
       "        </div>"
      ]
     },
     "metadata": {},
     "output_type": "display_data"
    }
   ],
   "source": [
    "fig = go.Figure(data=[go.Sankey(\n",
    "    # Define nodes\n",
    "    orientation = \"v\",\n",
    "    valueformat = \".0f\",\n",
    "    node = dict(\n",
    "      pad = 15,\n",
    "      thickness = 15,\n",
    "      line = dict(color = \"black\", width = 0.5),\n",
    "      label = [k for k, v in sorted(all_states.items(), key=lambda item: item[1])],\n",
    "      color = \"blue\"\n",
    "    ),\n",
    "    # Add links\n",
    "    link = dict(\n",
    "      source = [all_states[item[0]] for item in flows.keys()],\n",
    "      target = [all_states[item[1]] for item in flows.keys()],\n",
    "      value = list(flows.values()),\n",
    "    )\n",
    ")])\n",
    "\n",
    "layout =  dict(\n",
    "    title = \"Changes of states for the packages for whose the price was provided.\",\n",
    "    height = 772,\n",
    "    width = 950,\n",
    "    font = dict(\n",
    "      size = 10\n",
    "    ),    \n",
    ")\n",
    "fig.layout = layout\n",
    "fig.show()"
   ]
  },
  {
   "cell_type": "markdown",
   "metadata": {},
   "source": [
    "## Points of service vs couriers"
   ]
  },
  {
   "cell_type": "code",
   "execution_count": 79,
   "metadata": {},
   "outputs": [],
   "source": [
    "couriers_vs_pos = data.loc[~data['courier_id'].isna()][['number', 'courier_id', 'point_of_service_id']].\\\n",
    "    drop_duplicates().drop(columns=['number'])"
   ]
  },
  {
   "cell_type": "code",
   "execution_count": 81,
   "metadata": {},
   "outputs": [
    {
     "data": {
      "image/png": "[encoded data removed]",
      "text/plain": [
       "<Figure size 1152x720 with 2 Axes>"
      ]
     },
     "metadata": {
      "needs_background": "light"
     },
     "output_type": "display_data"
    }
   ],
   "source": [
    "plt.figure(figsize=(16, 10))\n",
    "sns.heatmap(pd.crosstab(couriers_vs_pos['courier_id'], couriers_vs_pos['point_of_service_id']), \n",
    "            square=True, cmap='gray_r')\n",
    "plt.xlabel('Point of service ID')\n",
    "plt.ylabel('Courier ID')\n",
    "plt.show()"
   ]
  },
  {
   "cell_type": "code",
   "execution_count": 33,
   "metadata": {},
   "outputs": [
    {
     "data": {
      "text/plain": [
       "35         9050417\n",
       "909        9179445\n",
       "910        9177725\n",
       "911        9135489\n",
       "912        9164754\n",
       "            ...   \n",
       "1810227    9136868\n",
       "1810228    9100870\n",
       "1810229    9100870\n",
       "1810230    9162394\n",
       "1810231    9162394\n",
       "Name: parcel_id, Length: 731727, dtype: object"
      ]
     },
     "execution_count": 33,
     "metadata": {},
     "output_type": "execute_result"
    }
   ],
   "source": [
    "data.loc[~data['point_of_service_id'].isna()]['parcel_id']"
   ]
  },
  {
   "cell_type": "code",
   "execution_count": 29,
   "metadata": {},
   "outputs": [
    {
     "data": {
      "text/plain": [
       "9130     622\n",
       "15010    588\n",
       "2402     535\n",
       "13020    533\n",
       "14633    525\n",
       "        ... \n",
       "13005      1\n",
       "8187       1\n",
       "14366      1\n",
       "5244       1\n",
       "7437       1\n",
       "Name: point_of_service_id, Length: 5686, dtype: int64"
      ]
     },
     "execution_count": 29,
     "metadata": {},
     "output_type": "execute_result"
    }
   ],
   "source": [
    "data['point_of_service_id'].value_counts()"
   ]
  }
 ],
 "metadata": {
  "kernelspec": {
   "display_name": "Python 3",
   "language": "python",
   "name": "python3"
  },
  "language_info": {
   "codemirror_mode": {
    "name": "ipython",
    "version": 3
   },
   "file_extension": ".py",
   "mimetype": "text/x-python",
   "name": "python",
   "nbconvert_exporter": "python",
   "pygments_lexer": "ipython3",
   "version": "3.7.6"
  }
 },
 "nbformat": 4,
 "nbformat_minor": 4
}
